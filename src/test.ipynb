{
 "cells": [
  {
   "cell_type": "code",
   "execution_count": 1,
   "id": "0f5e3a70-f6de-4f11-8b0d-23ce07aeefd0",
   "metadata": {},
   "outputs": [],
   "source": [
    "import pandas as pd\n",
    "import numpy as np\n",
    "import os\n",
    "import shutil\n",
    "\n",
    "path_old  = './old/'\n",
    "path_new = './new/'\n",
    "regex = re.compile(\"^akb\")\n",
    "file_type = '.txt'   "
   ]
  },
  {
   "cell_type": "code",
   "execution_count": 4,
   "id": "97e275fb",
   "metadata": {},
   "outputs": [],
   "source": [
    "def get_files(filepath, filetype):\n",
    "    filename = []\n",
    "    ext = []\n",
    "    for root, dirs, files in os.walk(filepath):\n",
    "        for file in files:\n",
    "            base, extension = os.path.splitext(file)\n",
    "            if regex.match(file) and file.endswith(file_type):\n",
    "                filename.append(base)\n",
    "                ext.append(extension)\n",
    "                d = {'filename': filename, 'extension': ext}\n",
    "                df = pd.DataFrame(data=d)               \n",
    "    return(df)\n",
    "\n",
    "def move_files(df):\n",
    "    i = 0\n",
    "    old = []\n",
    "    new = []\n",
    "    while i < len(df_lists.index):\n",
    "        old_file = os.path.join(path_old, f\"{df_lists['filename'][i]}{df_lists['extension'][i]}\")\n",
    "        new_file = os.path.join(path_new, f\"rename_{df_lists['filename'][i]}{df_lists['extension'][i]}\")\n",
    "        shutil.copyfile(old_file, new_file)\n",
    "        old.append(old_file)\n",
    "        new.append(new_file)\n",
    "        d = {'old': old, 'new': new}\n",
    "        data = pd.DataFrame(data=d)        \n",
    "        i += 1\n",
    "    return data"
   ]
  },
  {
   "cell_type": "code",
   "execution_count": 5,
   "id": "3d81b6eb",
   "metadata": {},
   "outputs": [
    {
     "data": {
      "text/html": [
       "<div>\n",
       "<style scoped>\n",
       "    .dataframe tbody tr th:only-of-type {\n",
       "        vertical-align: middle;\n",
       "    }\n",
       "\n",
       "    .dataframe tbody tr th {\n",
       "        vertical-align: top;\n",
       "    }\n",
       "\n",
       "    .dataframe thead th {\n",
       "        text-align: right;\n",
       "    }\n",
       "</style>\n",
       "<table border=\"1\" class=\"dataframe\">\n",
       "  <thead>\n",
       "    <tr style=\"text-align: right;\">\n",
       "      <th></th>\n",
       "      <th>old</th>\n",
       "      <th>new</th>\n",
       "    </tr>\n",
       "  </thead>\n",
       "  <tbody>\n",
       "    <tr>\n",
       "      <th>0</th>\n",
       "      <td>./old/akb_1.txt</td>\n",
       "      <td>./new/rename_akb_1.txt</td>\n",
       "    </tr>\n",
       "    <tr>\n",
       "      <th>1</th>\n",
       "      <td>./old/akb_2.txt</td>\n",
       "      <td>./new/rename_akb_2.txt</td>\n",
       "    </tr>\n",
       "    <tr>\n",
       "      <th>2</th>\n",
       "      <td>./old/akb_3.txt</td>\n",
       "      <td>./new/rename_akb_3.txt</td>\n",
       "    </tr>\n",
       "  </tbody>\n",
       "</table>\n",
       "</div>"
      ],
      "text/plain": [
       "               old                     new\n",
       "0  ./old/akb_1.txt  ./new/rename_akb_1.txt\n",
       "1  ./old/akb_2.txt  ./new/rename_akb_2.txt\n",
       "2  ./old/akb_3.txt  ./new/rename_akb_3.txt"
      ]
     },
     "execution_count": 5,
     "metadata": {},
     "output_type": "execute_result"
    }
   ],
   "source": [
    "df_lists = get_files(path_old,file_type)\n",
    "data= move_files(df_lists)\n",
    "data.head()"
   ]
  },
  {
   "cell_type": "code",
   "execution_count": null,
   "id": "af4c1d1c",
   "metadata": {},
   "outputs": [],
   "source": []
  },
  {
   "cell_type": "code",
   "execution_count": null,
   "id": "e3036651",
   "metadata": {},
   "outputs": [],
   "source": []
  },
  {
   "cell_type": "code",
   "execution_count": null,
   "id": "ef161d72",
   "metadata": {},
   "outputs": [],
   "source": []
  },
  {
   "cell_type": "code",
   "execution_count": null,
   "id": "7af8376f",
   "metadata": {},
   "outputs": [],
   "source": []
  },
  {
   "cell_type": "code",
   "execution_count": null,
   "id": "9761e14f",
   "metadata": {},
   "outputs": [],
   "source": []
  },
  {
   "cell_type": "code",
   "execution_count": null,
   "id": "0d091f73",
   "metadata": {},
   "outputs": [],
   "source": []
  }
 ],
 "metadata": {
  "kernelspec": {
   "display_name": "Python 3 (ipykernel)",
   "language": "python",
   "name": "python3"
  },
  "language_info": {
   "codemirror_mode": {
    "name": "ipython",
    "version": 3
   },
   "file_extension": ".py",
   "mimetype": "text/x-python",
   "name": "python",
   "nbconvert_exporter": "python",
   "pygments_lexer": "ipython3",
   "version": "3.9.10"
  }
 },
 "nbformat": 4,
 "nbformat_minor": 5
}
