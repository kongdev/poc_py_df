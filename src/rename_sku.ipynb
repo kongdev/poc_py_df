{
 "cells": [
  {
   "cell_type": "code",
   "execution_count": null,
   "id": "ad3a39b5",
   "metadata": {},
   "outputs": [],
   "source": [
    "import pandas as pd\n",
    "import os\n",
    "import shutil\n",
    "import re\n",
    "\n",
    "path_old  = './old/'\n",
    "path_new = './new/'\n",
    "path_csv = './rename_sku.csv'\n",
    "\n",
    "\n",
    "data_csv = pd.read_csv(path_csv)\n",
    "if os.path.isdir(path_new) :\n",
    "    shutil.rmtree(path_new)\n",
    "os.mkdir(path_new)"
   ]
  },
  {
   "cell_type": "code",
   "execution_count": null,
   "id": "e9cf73a2",
   "metadata": {},
   "outputs": [],
   "source": []
  },
  {
   "cell_type": "code",
   "execution_count": null,
   "id": "558ae033",
   "metadata": {},
   "outputs": [],
   "source": [
    "i = 0\n",
    "while i < len(data_csv.index):\n",
    "    sku_csv_old = data_csv['sku_dropship'][i]\n",
    "    sku_csv_new = data_csv['sku_consign'][i]\n",
    "    files = [f for f in os.listdir(path_old) if re.match(sku_csv_old, f)]\n",
    "    if len(files) > 0:\n",
    "         for file in files:\n",
    "            base, extension = os.path.splitext(file)\n",
    "            replace = base.replace(sku_csv_old, sku_csv_new)\n",
    "            old_file = os.path.join(path_old, f\"{base}{extension}\")\n",
    "            new_file = os.path.join(path_new, f\"{replace}{extension}\")\n",
    "            shutil.copyfile(old_file, new_file)\n",
    "            print(old_file, new_file)\n",
    "    i += 1   "
   ]
  },
  {
   "cell_type": "code",
   "execution_count": null,
   "id": "a3f92408",
   "metadata": {},
   "outputs": [],
   "source": []
  }
 ],
 "metadata": {
  "kernelspec": {
   "display_name": "Python 3 (ipykernel)",
   "language": "python",
   "name": "python3"
  },
  "language_info": {
   "codemirror_mode": {
    "name": "ipython",
    "version": 3
   },
   "file_extension": ".py",
   "mimetype": "text/x-python",
   "name": "python",
   "nbconvert_exporter": "python",
   "pygments_lexer": "ipython3",
   "version": "3.9.10"
  }
 },
 "nbformat": 4,
 "nbformat_minor": 5
}
